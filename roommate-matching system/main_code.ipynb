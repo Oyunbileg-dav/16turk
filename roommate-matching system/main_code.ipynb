{
 "metadata": {
  "language_info": {
   "codemirror_mode": {
    "name": "ipython",
    "version": 3
   },
   "file_extension": ".py",
   "mimetype": "text/x-python",
   "name": "python",
   "nbconvert_exporter": "python",
   "pygments_lexer": "ipython3",
   "version": "3.8.8"
  },
  "orig_nbformat": 4,
  "kernelspec": {
   "name": "python3",
   "display_name": "Python 3.8.8 64-bit ('base': conda)"
  },
  "interpreter": {
   "hash": "dfdf64035120ee9003ff8a3711bbd0109cbdc0ad47412c62b5d463bac2d05876"
  }
 },
 "nbformat": 4,
 "nbformat_minor": 2,
 "cells": [
  {
   "cell_type": "code",
   "execution_count": 82,
   "source": [
    "import openpyxl\n",
    "import random"
   ],
   "outputs": [],
   "metadata": {}
  },
  {
   "cell_type": "code",
   "execution_count": 83,
   "source": [
    "# open the excel file\n",
    "file = \"test01.xlsx\"\n",
    "\n",
    "# load the workbook\n",
    "workbook = openpyxl.load_workbook(file)\n",
    "\n",
    "# load the worksheet\n",
    "worksheet = workbook['Sheet1']\n",
    "\n",
    "\n",
    "# a function for printing column names\n",
    "def print_colnames():\n",
    "    col_names = []\n",
    "    for col in worksheet.iter_cols(1, worksheet.max_column):\n",
    "        col_names.append(col[0].value)\n",
    "    print(col_names)\n",
    "    \n",
    "print_colnames()"
   ],
   "outputs": [
    {
     "output_type": "stream",
     "name": "stdout",
     "text": [
      "['birthdate', 'name', 'preferred_email_address', 'gender', 'Citizenship Country', 'countries_of_citizenship.1', 'Class', 'minerva_id', 'smoking_roommate?', 'smoker?', 'neatness', 'cleanliness', 'waking_up', 'noise_level', 'socializing_frequency', 'socializing_type', 'going_to_sleep', 'cooking_practices', 'is_cooking_important', 'clean_score', 'lifestyle_score', 'socializing_score']\n"
     ]
    }
   ],
   "metadata": {}
  },
  {
   "cell_type": "code",
   "execution_count": 84,
   "source": [
    "# a function that selects a specific column by name\n",
    "def COL_select(column):\n",
    "    Col_Names = {}\n",
    "    Current = 0 \n",
    "    for COL in worksheet.iter_cols(1, worksheet.max_column):\n",
    "        Col_Names[COL[0].value] = Current\n",
    "        Current += 1\n",
    "    Col_list = []\n",
    "    for row_cells in worksheet.iter_rows(1, worksheet.max_row):\n",
    "        Col_list.append(row_cells[Col_Names[column]])\n",
    "    return Col_list"
   ],
   "outputs": [],
   "metadata": {}
  },
  {
   "cell_type": "code",
   "execution_count": 85,
   "source": [
    "### Used to create fake answers\n",
    "\n",
    "# def random_assigner(column):\n",
    "#     for i in range(1, len(COL_select(column))):\n",
    "#         COL_select(column)[i].value = random.randrange(1,6)\n",
    "#     return workbook.save(filename=\"test01.xlsx\")\n",
    "\n",
    "# columns = ['neatness', 'cleanliness', 'waking_up', 'noise_level', 'socializing_frequency', 'socializing_type', 'going_to_sleep']\n",
    "\n",
    "# for column in columns:\n",
    "#     random_assigner(column)"
   ],
   "outputs": [],
   "metadata": {}
  },
  {
   "cell_type": "code",
   "execution_count": 86,
   "source": [
    "# initiate a class which stores different attributes of a tenant \n",
    "class Student: \n",
    "\n",
    "    def __init__(self, full_name, gender, country, smoking_roommate, is_smoker, neatness, cleanliness, waking_up, noise_level, socializing_freq, socializing_type, going_to_sleep):\n",
    "        self.fn = full_name\n",
    "        self.gn = gender\n",
    "        self.cn = country\n",
    "        self.sr = smoking_roommate\n",
    "        self.sm = is_smoker\n",
    "        self.nt = neatness\n",
    "        self.cl = cleanliness\n",
    "        self.wu = waking_up\n",
    "        self.nl = noise_level\n",
    "        self.sf = socializing_freq\n",
    "        self.st = socializing_type\n",
    "        self.gs = going_to_sleep\n",
    "        self.cs = None\n",
    "        self.ls = None\n",
    "        self.ss = None"
   ],
   "outputs": [],
   "metadata": {}
  },
  {
   "cell_type": "code",
   "execution_count": 87,
   "source": [
    "def to_class():\n",
    "    students = []\n",
    "    Col_Names = {}\n",
    "    Current = 0 \n",
    "    for COL in worksheet.iter_cols(1, worksheet.max_column):\n",
    "        Col_Names[COL[0].value] = Current\n",
    "        Current += 1\n",
    "    for row_cells in worksheet.iter_rows(2, worksheet.max_row):\n",
    "        full_name = row_cells[Col_Names[\"name\"]].value\n",
    "        gender = row_cells[Col_Names[\"gender\"]].value\n",
    "        country = row_cells[Col_Names[\"Citizenship Country\"]].value\n",
    "        smoking_roommate = row_cells[Col_Names[\"smoking_roommate?\"]].value\n",
    "        is_smoker = row_cells[Col_Names[\"smoker?\"]].value\n",
    "        neatness = row_cells[Col_Names[\"neatness\"]].value\n",
    "        cleanliness = row_cells[Col_Names[\"cleanliness\"]].value\n",
    "        waking_up = row_cells[Col_Names[\"waking_up\"]].value\n",
    "        noise_level = row_cells[Col_Names[\"noise_level\"]].value\n",
    "        socializing_freq = row_cells[Col_Names[\"socializing_frequency\"]].value\n",
    "        socializing_type = row_cells[Col_Names[\"socializing_type\"]].value\n",
    "        going_to_sleep = row_cells[Col_Names[\"going_to_sleep\"]].value\n",
    "        students.append(Student(full_name, gender, country, smoking_roommate, is_smoker, neatness, cleanliness, waking_up, noise_level, socializing_freq, socializing_type, going_to_sleep))\n",
    "    return students"
   ],
   "outputs": [],
   "metadata": {}
  },
  {
   "cell_type": "code",
   "execution_count": 88,
   "source": [
    "all_students = to_class()"
   ],
   "outputs": [],
   "metadata": {}
  },
  {
   "cell_type": "code",
   "execution_count": 89,
   "source": [
    "len(all_students)"
   ],
   "outputs": [
    {
     "output_type": "execute_result",
     "data": {
      "text/plain": [
       "124"
      ]
     },
     "metadata": {},
     "execution_count": 89
    }
   ],
   "metadata": {}
  },
  {
   "cell_type": "code",
   "execution_count": 90,
   "source": [
    "def gender_count(class_list):\n",
    "    gender_dic = {}\n",
    "    for student in class_list:\n",
    "        student.gn = student.gn.replace(\" \", \"\")\n",
    "        student.gn = student.gn.lower()\n",
    "    count_male = 0\n",
    "    count_female = 0\n",
    "    other_gen = 0\n",
    "    for student in class_list:\n",
    "        if student.gn == \"male\":\n",
    "            count_male += 1\n",
    "        elif student.gn == \"female\":\n",
    "            count_female += 1 \n",
    "        else:\n",
    "            other_gen += 1\n",
    "    gender_dic[\"male\"] = count_male\n",
    "    gender_dic[\"female\"] = count_female\n",
    "    gender_dic[\"other\"] = other_gen\n",
    "    return gender_dic"
   ],
   "outputs": [],
   "metadata": {}
  },
  {
   "cell_type": "code",
   "execution_count": 91,
   "source": [
    "# gender_count(students)\n"
   ],
   "outputs": [],
   "metadata": {}
  },
  {
   "cell_type": "code",
   "execution_count": 92,
   "source": [
    "# def get_averages(worksheet):\n",
    "#     averages = {}\n",
    "#     columns = ['neatness', 'cleanliness', 'waking_up', 'noise_level', 'socializing_frequency', 'socializing_type', 'going_to_sleep']\n",
    "#     for column in columns: \n",
    "#         total = 0\n",
    "#         for i in range(1, len(COL_select(column))):\n",
    "#             total += COL_select(column)[i].value\n",
    "#         average = total/len(COL_select(column))\n",
    "#         averages[column] = average\n",
    "#     return averages\n",
    "\n",
    "# averages = get_averages(worksheet)"
   ],
   "outputs": [],
   "metadata": {}
  },
  {
   "cell_type": "code",
   "execution_count": 93,
   "source": [
    "def get_scores(students):\n",
    "    for i in range(len(students)):\n",
    "        students[i].cs = students[i].nt + students[i].cl\n",
    "        students[i].ls = students[i].wu + students[i].nl + students[i].gs\n",
    "        students[i].ss = students[i].sf + students[i].st\n",
    "        COL_select(\"clean_score\")[i+1].value = students[i].cs\n",
    "        COL_select(\"lifestyle_score\")[i+1].value = students[i].ls\n",
    "        COL_select(\"socializing_score\")[i+1].value = students[i].ss\n",
    "    return workbook.save(filename=\"test01.xlsx\")"
   ],
   "outputs": [],
   "metadata": {}
  },
  {
   "cell_type": "code",
   "execution_count": 94,
   "source": [
    "get_scores(all_students)"
   ],
   "outputs": [],
   "metadata": {}
  },
  {
   "cell_type": "code",
   "execution_count": 95,
   "source": [
    "def match_roommates(students):\n",
    "    gender_dic = gender_count(students)\n",
    "    random.shuffle(students)\n",
    "    if gender_dic[\"male\"]%3 != 0:\n",
    "        male_rooms = gender_dic[\"male\"]//3+1\n",
    "    else:\n",
    "        male_rooms = gender_dic[\"male\"]//3\n",
    "    if gender_dic[\"female\"]%3 != 0:\n",
    "        female_rooms = gender_dic[\"female\"]//3+1\n",
    "    else:\n",
    "        female_rooms = gender_dic[\"female\"]//3\n",
    "    if gender_dic[\"other\"]%3 != 0:\n",
    "        other_rooms = gender_dic[\"other\"]//3+1\n",
    "    else:\n",
    "        other_rooms = gender_dic[\"other\"]//3\n",
    "    number_of_rooms = male_rooms + female_rooms + other_rooms\n",
    "    roommates = {}\n",
    "    for i in range(1, number_of_rooms+1):\n",
    "        roommates[i] = {}\n",
    "    for student in students:\n",
    "        for i in range(1, number_of_rooms+1):\n",
    "            if len(roommates[i]) == 0:\n",
    "                roommates[i][1] = {\"Name\":student.fn, \"Country\": student.cn, \"Gender\": student.gn, \"Smoking_roommate\": student.sr, \"Is_smoker\": student.sm, \"Neatness\": student.nt, \"Cleanliness\": student.cl, \"Waking_up\": student.wu, \"Noise_level\": student.nl, \"Socializing_freq\": student.sf, \"Socializing_type\": student.st, \"Going_to_sleep\": student.gs}\n",
    "                break\n",
    "            elif len(roommates[i]) == 1 and (roommates[i][1][\"Country\"] != student.cn and roommates[i][1][\"Gender\"] == student.gn):\n",
    "                roommates[i][2] = {\"Name\":student.fn, \"Country\": student.cn, \"Gender\": student.gn, \"Smoking_roommate\": student.sr, \"Is_smoker\": student.sm, \"Neatness\": student.nt, \"Cleanliness\": student.cl, \"Waking_up\": student.wu, \"Noise_level\": student.nl, \"Socializing_freq\": student.sf, \"Socializing_type\": student.st, \"Going_to_sleep\": student.gs}\n",
    "                break\n",
    "            elif len(roommates[i]) == 2 and roommates[i][1][\"Country\"] != student.cn:\n",
    "                if roommates[i][2][\"Country\"] != student.cn and roommates[i][2][\"Gender\"] == student.gn:\n",
    "                    roommates[i][3] = {\"Name\":student.fn, \"Country\": student.cn, \"Gender\": student.gn, \"Smoking_roommate\": student.sr, \"Is_smoker\": student.sm, \"Neatness\": student.nt, \"Cleanliness\": student.cl, \"Waking_up\": student.wu, \"Noise_level\": student.nl, \"Socializing_freq\": student.sf, \"Socializing_type\": student.st, \"Going_to_sleep\": student.gs}\n",
    "                    break\n",
    "            else:\n",
    "                continue\n",
    "    return roommates\n"
   ],
   "outputs": [],
   "metadata": {}
  },
  {
   "cell_type": "code",
   "execution_count": 96,
   "source": [
    "# def get_groups(all_students):\n",
    "#     # group_1 has people who prefer to live with someone who smokes or have no preference\n",
    "#     group_1 = []\n",
    "#     # group_2 has people who has clean_score (2-5), lifestyle_score (3-9), socializing_score (2-5)\n",
    "#     group_2 = []\n",
    "#     # group_3 has people who has clean_score (2-5), lifestyle_score (3-9), socializing_score (6-10)\n",
    "#     group_3 = []\n",
    "#     # group_4 has people who has clean_score (2-5), lifestyle_score (10-15), socializing_score (2-5)\n",
    "#     group_4 = []\n",
    "#     # group_5 has people who has clean_score (2-5), lifestyle_score (10-15), socializing_score (6-10)\n",
    "#     group_5 = []\n",
    "#     # group_6 has people who has clean_score (6-10), lifestyle_score (3-9), socializing_score (2-5)\n",
    "#     group_6 = []\n",
    "#     # group_7 has people who has clean_score (6-10), lifestyle_score (3-9), socializing_score (6-10)\n",
    "#     group_7 = []\n",
    "#     # group_8 has people who has clean_score (6-10), lifestyle_score (10-15), socializing_score (2-5)\n",
    "#     group_8 = []\n",
    "#     # group_9 has people who has clean_score (6-10), lifestyle_score (10-15), socializing_score (6-10)\n",
    "#     group_9 = []\n",
    "\n",
    "#     for student in all_students:\n",
    "#         if student.sr == \"I have no preference.\" or student.sr == \"I prefer to live with someone who smokes.\":\n",
    "#             group_1.append(student)\n",
    "#         else:\n",
    "#             if student.cs <= 5:\n",
    "#                 if student.ls <= 9:\n",
    "#                     if student.ss <= 5:\n",
    "#                         group_2.append(student)\n",
    "#                     else:\n",
    "#                         group_3.append(student)\n",
    "#                 else:\n",
    "#                     if student.ss <= 5:\n",
    "#                         group_4.append(student)\n",
    "#                     else:\n",
    "#                         group_5.append(student)\n",
    "#             else:\n",
    "#                 if student.ls <= 9:\n",
    "#                     if student.ss <= 5:\n",
    "#                         group_6.append(student)\n",
    "#                     else:\n",
    "#                         group_7.append(student)\n",
    "#                 else:\n",
    "#                     if student.ss <= 5:\n",
    "#                         group_8.append(student)\n",
    "#                     else:\n",
    "#                         group_9.append(student)\n",
    "#     groups = {}\n",
    "#     groups[\"group_1\"] = group_1\n",
    "#     groups[\"group_2\"] = group_2\n",
    "#     groups[\"group_3\"] = group_3\n",
    "#     groups[\"group_4\"] = group_4\n",
    "#     groups[\"group_5\"] = group_5\n",
    "#     groups[\"group_6\"] = group_6\n",
    "#     groups[\"group_7\"] = group_7\n",
    "#     groups[\"group_8\"] = group_8\n",
    "#     groups[\"group_9\"] = group_9\n",
    "#     return groups\n",
    "\n",
    "# # roommates = match_roommates(students)\n"
   ],
   "outputs": [],
   "metadata": {}
  },
  {
   "cell_type": "code",
   "execution_count": 97,
   "source": [
    "def get_groups(all_students):\n",
    "    # group_1 has people who prefer to live with someone who smokes or have no preference\n",
    "    group_1 = []\n",
    "    # group_2 has people who has clean_score (2-5), lifestyle_score (3-9), socializing_score (2-5)\n",
    "    group_2 = []\n",
    "    # group_3 has people who has clean_score (2-5), lifestyle_score (3-9), socializing_score (6-10)\n",
    "    group_3 = []\n",
    "    # group_4 has people who has clean_score (2-5), lifestyle_score (10-15), socializing_score (2-5)\n",
    "    group_4 = []\n",
    "    # group_5 has people who has clean_score (2-5), lifestyle_score (10-15), socializing_score (6-10)\n",
    "    group_5 = []\n",
    "\n",
    "    for student in all_students:\n",
    "        if student.sr == \"I have no preference.\" or student.sr == \"I prefer to live with someone who smokes.\":\n",
    "            group_1.append(student)\n",
    "        else:\n",
    "            if student.cs <= 5:\n",
    "                if student.ls <= 9:\n",
    "                    group_2.append(student)\n",
    "                else:\n",
    "                    group_3.append(student)\n",
    "            else:\n",
    "                if student.ls <= 9:\n",
    "                    group_4.append(student)\n",
    "                else:\n",
    "                    group_5.append(student)\n",
    "    groups = {}\n",
    "    groups[\"group_1\"] = group_1\n",
    "    groups[\"group_2\"] = group_2\n",
    "    groups[\"group_3\"] = group_3\n",
    "    groups[\"group_4\"] = group_4\n",
    "    groups[\"group_5\"] = group_5\n",
    "    return groups\n",
    "\n",
    "# roommates = match_roommates(students)\n"
   ],
   "outputs": [],
   "metadata": {}
  },
  {
   "cell_type": "code",
   "execution_count": 98,
   "source": [
    "worksheet1 = workbook.create_sheet(\"roommate_match\")\n",
    "# put groups of roommates into the sheet\n",
    "def put_to_excel(roommates):\n",
    "    r = worksheet1.max_row+1\n",
    "    for room in range(1, len(roommates)+1):\n",
    "        for i in range(1, len(roommates[room])+1):\n",
    "            worksheet1.cell(row = r, column = 1).value = \"Room \" + str(room)\n",
    "            worksheet1.cell(row = r, column = 2).value = roommates[room][i][\"Name\"]\n",
    "            worksheet1.cell(row = r, column = 3).value = roommates[room][i][\"Country\"]\n",
    "            worksheet1.cell(row = r, column = 4).value = roommates[room][i][\"Gender\"]\n",
    "            worksheet1.cell(row = r, column = 5).value = roommates[room][i][\"Smoking_roommate\"]\n",
    "            worksheet1.cell(row = r, column = 6).value = roommates[room][i][\"Is_smoker\"]\n",
    "            worksheet1.cell(row = r, column = 7).value = roommates[room][i][\"Neatness\"]\n",
    "            worksheet1.cell(row = r, column = 8).value = roommates[room][i][\"Cleanliness\"]\n",
    "            worksheet1.cell(row = r, column = 9).value = roommates[room][i][\"Waking_up\"]\n",
    "            worksheet1.cell(row = r, column = 10).value = roommates[room][i][\"Noise_level\"]\n",
    "            worksheet1.cell(row = r, column = 11).value = roommates[room][i][\"Socializing_freq\"]\n",
    "            worksheet1.cell(row = r, column = 12).value = roommates[room][i][\"Socializing_type\"]\n",
    "            worksheet1.cell(row = r, column = 13).value = roommates[room][i][\"Going_to_sleep\"]\n",
    "            \n",
    "            r += 1"
   ],
   "outputs": [],
   "metadata": {}
  },
  {
   "cell_type": "code",
   "execution_count": 99,
   "source": [
    "# groups = get_groups(all_students)\n",
    "# group_1 = match_roommates(groups[\"group_1\"])\n",
    "# group_2 = match_roommates(groups[\"group_2\"])\n",
    "# group_3 = match_roommates(groups[\"group_3\"])\n",
    "# group_4 = match_roommates(groups[\"group_4\"])\n",
    "# group_5 = match_roommates(groups[\"group_5\"])\n",
    "# group_6 = match_roommates(groups[\"group_6\"])\n",
    "# group_7 = match_roommates(groups[\"group_7\"])\n",
    "# group_8 = match_roommates(groups[\"group_8\"])\n",
    "# group_9 = match_roommates(groups[\"group_9\"])\n",
    "# put_to_excel(group_1)\n",
    "# put_to_excel(group_2)\n",
    "# put_to_excel(group_3)\n",
    "# put_to_excel(group_4)\n",
    "# put_to_excel(group_5)\n",
    "# put_to_excel(group_6)\n",
    "# put_to_excel(group_7)\n",
    "# put_to_excel(group_8)\n",
    "# put_to_excel(group_9)\n"
   ],
   "outputs": [],
   "metadata": {}
  },
  {
   "cell_type": "code",
   "execution_count": 100,
   "source": [
    "groups = get_groups(all_students)\n",
    "group_1 = match_roommates(groups[\"group_1\"])\n",
    "group_2 = match_roommates(groups[\"group_2\"])\n",
    "group_3 = match_roommates(groups[\"group_3\"])\n",
    "group_4 = match_roommates(groups[\"group_4\"])\n",
    "group_5 = match_roommates(groups[\"group_5\"])\n",
    "put_to_excel(group_1)\n",
    "put_to_excel(group_2)\n",
    "put_to_excel(group_3)\n",
    "put_to_excel(group_4)\n",
    "put_to_excel(group_5)"
   ],
   "outputs": [],
   "metadata": {}
  },
  {
   "cell_type": "code",
   "execution_count": 101,
   "source": [
    "workbook.save(filename=\"test01.xlsx\")"
   ],
   "outputs": [],
   "metadata": {}
  }
 ]
}