{
 "cells": [
  {
   "cell_type": "code",
   "execution_count": 3,
   "source": [
    "import openpyxl"
   ],
   "outputs": [],
   "metadata": {}
  },
  {
   "cell_type": "code",
   "execution_count": 4,
   "source": [
    "# open the excel file\n",
    "file = \"test02.xlsx\"\n",
    "\n",
    "# load the workbook\n",
    "workbook = openpyxl.load_workbook(file)\n",
    "\n",
    "# load the worksheet\n",
    "worksheet = workbook['Current roster']\n",
    "\n",
    "# a function for printing column names\n",
    "def print_colnames():\n",
    "    col_names = []\n",
    "    for col in worksheet.iter_cols(1, worksheet.max_column):\n",
    "        col_names.append(col[0].value)\n",
    "    print(col_names)\n",
    "    \n",
    "print_colnames()"
   ],
   "outputs": [
    {
     "output_type": "stream",
     "name": "stdout",
     "text": [
      "['Room', 'Type', 'Email', 'First name', 'Last name', 'Student ID', 'Gender', 'Class', 'Move-in date', 'Move-out date', 'Roommate preference', 'Status']\n"
     ]
    }
   ],
   "metadata": {}
  },
  {
   "cell_type": "code",
   "execution_count": 5,
   "source": [
    "# a function that selects a specific column by name\n",
    "def COL_select(column):\n",
    "    Col_Names = {}\n",
    "    Current = 0 \n",
    "    for COL in worksheet.iter_cols(1, worksheet.max_column):\n",
    "        Col_Names[COL[0].value] = Current\n",
    "        Current += 1\n",
    "    Col_list = []\n",
    "    for row_cells in worksheet.iter_rows(1, worksheet.max_row):\n",
    "        Col_list.append(row_cells[Col_Names[column]])\n",
    "    return Col_list"
   ],
   "outputs": [],
   "metadata": {}
  },
  {
   "cell_type": "code",
   "execution_count": 6,
   "source": [
    "# a function that finds a tenant unit by first name\n",
    "def find_by_fn(fname):\n",
    "    for row_cells in worksheet.iter_rows(1, worksheet.max_row):\n",
    "        if row_cells[Col_Names['First name']].value == fname:\n",
    "            print(row_cells[Col_Names['Room']].value)"
   ],
   "outputs": [],
   "metadata": {}
  },
  {
   "cell_type": "code",
   "execution_count": 7,
   "source": [
    "# initiate a class which stores different attributes of a tenant \n",
    "class Tenant: \n",
    "\n",
    "    def __init__(self, first_name, last_name, student_id, email, gender, class_yr, room_type, move_in, move_out, roommate_pref, unit = \"unassigned\"):\n",
    "        self.fn = first_name\n",
    "        self.ln = last_name\n",
    "        self.id = student_id\n",
    "        self.em = email\n",
    "        self.gn = gender\n",
    "        self.yr = class_yr\n",
    "        self.rt = room_type\n",
    "        self.mi = move_in\n",
    "        self.mo = move_out\n",
    "        self.rm = roommate_pref\n",
    "        self.un = unit\n",
    "    "
   ],
   "outputs": [],
   "metadata": {}
  },
  {
   "cell_type": "code",
   "execution_count": 8,
   "source": [
    "count = 0 \n",
    "for i in COL_select(\"Class\"):\n",
    "    if i.value == \"M21\":\n",
    "        count += 1\n",
    "print(count)"
   ],
   "outputs": [
    {
     "output_type": "stream",
     "name": "stdout",
     "text": [
      "79\n"
     ]
    }
   ],
   "metadata": {}
  },
  {
   "cell_type": "code",
   "execution_count": 9,
   "source": [
    "def position_tenant(cell_row):\n",
    "    COL_select(\"Email\")[cell_row-1].value = tenant.em\n",
    "    COL_select(\"First name\")[cell_row-1].value = tenant.fn\n",
    "    COL_select(\"Last name\")[cell_row-1].value = tenant.ln\n",
    "    COL_select(\"Student ID\")[cell_row-1].value = tenant.id\n",
    "    COL_select(\"Gender\")[cell_row-1].value = tenant.gn\n",
    "    COL_select(\"Class\")[cell_row-1].value = tenant.yr\n",
    "    COL_select(\"Move-in date\")[cell_row-1].value = tenant.mi\n",
    "    COL_select(\"Move-out date\")[cell_row-1].value = tenant.mo \n",
    "    COL_select(\"Roommate preference\")[cell_row-1].value = tenant.rm\n",
    "    tenant.un = COL_select(\"Room\")[cell_row-1].value\n",
    "\n",
    "def new_tenant():\n",
    "    first_name = input(\"First name: \")\n",
    "    last_name = input(\"Last name: \")\n",
    "    student_id = input(\"Student ID: \")\n",
    "    email = input(\"Student email address: \")\n",
    "    gender = input(\"Gender: \")\n",
    "    class_yr = input(\"Class: \")\n",
    "    room_type = input(\"Room type: \")\n",
    "    move_in = input(\"Move-in date (MM/DD/YY): \")\n",
    "    move_out = input(\"Move-out date (MM/DD/YY): \")\n",
    "    roommate_pref = input(\"Roommate preference ID: \")\n",
    "    unit = input(\"Assigned unit: \")\n",
    "\n",
    "    if unit == \"\":\n",
    "        tenant = Tenant(first_name, last_name, student_id, email, gender, class_yr, room_type, move_in, move_out, roommate_pref)\n",
    "    else:\n",
    "        tenant = Tenant(first_name, last_name, student_id, email, gender, class_yr, room_type, move_in, move_out, roommate_pref, unit)\n",
    "\n",
    "    return tenant\n",
    "\n",
    "# place the tenant if they have a roommate preference \n",
    "def place_roommate(roommate_id):\n",
    "    for cell in COL_select(\"Student ID\"):\n",
    "        if cell.value == int(roommate_id):\n",
    "            room = COL_select(\"Room\")[cell.row-1].value[:-1]\n",
    "            row = cell.row\n",
    "        else:\n",
    "            raise NotImplementedError(\"Roommate mismatch\")\n",
    "    \n",
    "\n",
    "    \n",
    "    #         if room[-1] == \"A\":\n",
    "    #             room = COL_select(\"Room\")[cell.row-1].value[:-1] + \"B\"\n",
    "    #         else:\n",
    "    #             room = COL_select(\"Room\")[cell.row-1].value[:-1] + \"A\"\n",
    "    #         break\n",
    "    # for room_1 in COL_select(\"Room\"):\n",
    "    #     if room_1.value == room and COL_select(\"Email\")[room_1.row-1] == None:\n",
    "    #         position_tenant(room_1.row)\n",
    "    #         break\n",
    "    #     else: \n",
    "    #         raise NotImplementedError(\"Assignment failed due to roommate preference\")\n",
    "\n",
    "# check a tenant's gender match with their roommate \n",
    "## >>>> check the room name and the tenant status ++ DONE!!!\n",
    "def gender_check(cell):\n",
    "    room = COL_select(\"Room\")[cell.row-1].value[:-1]\n",
    "    roommate_gen = \"\"\n",
    "    roommates = []\n",
    "    for cell in COL_select(\"Room\"):\n",
    "        if room in str(cell.value):\n",
    "            roommates.append(cell)\n",
    "    for roommate in roommates:\n",
    "        row = roommate.row\n",
    "        if COL_select(\"Status\")[roommate.row-1].value == \"Current Tenant\":\n",
    "            roommate_gen = COL_select(\"Gender\")[roommate.row-1].value\n",
    "    \n",
    "    if tenant.gn == roommate_gen or roommate_gen == None:\n",
    "        return True\n",
    "    else:\n",
    "        return False\n",
    "\n",
    "# a function that assigns a new tenant into a room and returns the unit number\n",
    "def new_tenant_assign(tenant):\n",
    "\n",
    "    # if the room is assigned already, it will just place the tenant\n",
    "    if tenant.un != \"unassigned\":\n",
    "        for cell in COL_select(\"Room\"):\n",
    "            if cell.value == tenant.un:\n",
    "                position_tenant(cell.row)\n",
    "                break\n",
    "            else: \n",
    "                raise NotImplementedError(\"No such room exists\")\n",
    "    else:\n",
    "        for cell in COL_select(\"Type\"):\n",
    "            # first, check for an availability via room type\n",
    "            if (cell.value == tenant.rt and COL_select(\"Email\")[cell.row-1].value == None) and (tenant.rm == \"\" and gender_check(cell)):\n",
    "                position_tenant(cell.row)\n",
    "                break\n",
    "            # second, check roommate preference \n",
    "            elif (cell.value == tenant.rt and COL_select(\"Email\")[cell.row-1].value == None) and (tenant.rm !=  \"\"):\n",
    "                place_roommate(tenant.rm)\n",
    "                break\n",
    "            else:\n",
    "                continue\n",
    "                    \n",
    "                    \n",
    "                    # fourth, optimize the dates \n",
    "        # checks if the \n",
    "        if tenant.un == \"unassigned\":\n",
    "            print(\"The tenant could not be assigned\")\n",
    "        else:\n",
    "            return tenant.un"
   ],
   "outputs": [],
   "metadata": {}
  },
  {
   "cell_type": "code",
   "execution_count": 10,
   "source": [
    "# initiating a new tenant and assigning\n",
    "tenant = new_tenant()\n",
    "new_tenant_assign(tenant)\n",
    "\n",
    "######## BUGS ########\n",
    "### 1. the second tenant is not being placed properly \n",
    "# --> check gender_check() regarding the index or values (fixed!)\n",
    "### 2. place_roommate isn't functioning (fixed!)\n",
    "# --> ???\n",
    "### 3. \n",
    "\n",
    "### as of July 2, the assigning by room type, roommate preference, and gender is working properly\n",
    "# + but need to adjust it to academic year system (i.e two roommates instead of one)\n",
    "# + should optimize by move-in and move-out dates \n",
    "# + \n",
    "\n",
    "### as of July 27, working fine with a more realistic sheet\n",
    "# gender_check() works accurately!\n",
    "# + should update the status on code or excel (DECIDE!)\n",
    "# + if the tenant has an assigned room, it gives an error\n",
    "# + should check if their preferred roommate is a current tenant\n",
    "\n",
    "\n",
    "# Roommate preference not working\n"
   ],
   "outputs": [
    {
     "output_type": "execute_result",
     "data": {
      "text/plain": [
       "'504B'"
      ]
     },
     "metadata": {},
     "execution_count": 10
    }
   ],
   "metadata": {}
  },
  {
   "cell_type": "code",
   "execution_count": 11,
   "source": [
    "# save the workbook\n",
    "workbook.save(filename = 'test02.xlsx')"
   ],
   "outputs": [],
   "metadata": {}
  },
  {
   "cell_type": "code",
   "execution_count": 12,
   "source": [
    "room = \"505\"\n",
    "roommates = []\n",
    "for cell in COL_select(\"Room\"):\n",
    "    if room in str(cell.value):\n",
    "        roommates.append(cell)"
   ],
   "outputs": [],
   "metadata": {}
  },
  {
   "cell_type": "markdown",
   "source": [],
   "metadata": {}
  },
  {
   "cell_type": "code",
   "execution_count": 13,
   "source": [
    "roommates"
   ],
   "outputs": [
    {
     "output_type": "execute_result",
     "data": {
      "text/plain": [
       "[<Cell 'Current roster'.A34>,\n",
       " <Cell 'Current roster'.A35>,\n",
       " <Cell 'Current roster'.A36>,\n",
       " <Cell 'Current roster'.A37>,\n",
       " <Cell 'Current roster'.A38>,\n",
       " <Cell 'Current roster'.A39>]"
      ]
     },
     "metadata": {},
     "execution_count": 13
    }
   ],
   "metadata": {}
  },
  {
   "cell_type": "code",
   "execution_count": 14,
   "source": [
    "worksheet[\"A2\"]"
   ],
   "outputs": [
    {
     "output_type": "execute_result",
     "data": {
      "text/plain": [
       "<Cell 'Current roster'.A2>"
      ]
     },
     "metadata": {},
     "execution_count": 14
    }
   ],
   "metadata": {}
  },
  {
   "cell_type": "code",
   "execution_count": 15,
   "source": [
    "COL_select(\"Room\")[1]"
   ],
   "outputs": [
    {
     "output_type": "execute_result",
     "data": {
      "text/plain": [
       "<Cell 'Current roster'.A2>"
      ]
     },
     "metadata": {},
     "execution_count": 15
    }
   ],
   "metadata": {}
  },
  {
   "cell_type": "code",
   "execution_count": 24,
   "source": [
    "COL_select(\"Move-in date\")[93].value"
   ],
   "outputs": [
    {
     "output_type": "execute_result",
     "data": {
      "text/plain": [
       "datetime.datetime(2021, 5, 26, 0, 0)"
      ]
     },
     "metadata": {},
     "execution_count": 24
    }
   ],
   "metadata": {}
  },
  {
   "cell_type": "code",
   "execution_count": 21,
   "source": [
    "COL_select(\"Move-out date\")[2].value"
   ],
   "outputs": [
    {
     "output_type": "execute_result",
     "data": {
      "text/plain": [
       "datetime.datetime(2020, 12, 31, 0, 0)"
      ]
     },
     "metadata": {},
     "execution_count": 21
    }
   ],
   "metadata": {}
  },
  {
   "cell_type": "code",
   "execution_count": 22,
   "source": [
    "COL_select(\"Move-out date\")[2].value - COL_select(\"Move-in date\")[2].value"
   ],
   "outputs": [
    {
     "output_type": "execute_result",
     "data": {
      "text/plain": [
       "datetime.timedelta(days=112)"
      ]
     },
     "metadata": {},
     "execution_count": 22
    }
   ],
   "metadata": {}
  }
 ],
 "metadata": {
  "interpreter": {
   "hash": "dfdf64035120ee9003ff8a3711bbd0109cbdc0ad47412c62b5d463bac2d05876"
  },
  "kernelspec": {
   "name": "python3",
   "display_name": "Python 3.8.8 64-bit ('base': conda)"
  },
  "language_info": {
   "codemirror_mode": {
    "name": "ipython",
    "version": 3
   },
   "file_extension": ".py",
   "mimetype": "text/x-python",
   "name": "python",
   "nbconvert_exporter": "python",
   "pygments_lexer": "ipython3",
   "version": "3.8.8"
  }
 },
 "nbformat": 4,
 "nbformat_minor": 2
}